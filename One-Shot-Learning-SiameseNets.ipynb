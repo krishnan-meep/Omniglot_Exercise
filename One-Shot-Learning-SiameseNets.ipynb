{
 "cells": [
  {
   "cell_type": "markdown",
   "metadata": {},
   "source": [
    "## One Shot Learning on Omniglot\n",
    "\n",
    "Using a small ConvNet to meta-learn the heck out of Omniglot characters. Nice to see malayalam in my dataset. The model and dataloader are present in siamese.py and omniglot_loader.py respectively."
   ]
  },
  {
   "cell_type": "code",
   "execution_count": 1,
   "metadata": {},
   "outputs": [],
   "source": [
    "import numpy as np\n",
    "import torch\n",
    "import torch.nn as nn\n",
    "import torch.nn.functional as F\n",
    "import torch.optim as optim\n",
    "from torch.utils.data import Dataset\n",
    "import torchvision\n",
    "import torchvision.transforms as transforms\n",
    "import os\n",
    "import cv2\n",
    "import matplotlib.pyplot as plt\n",
    "\n",
    "from siamese import SiameseNet, train_step, test_step, oneshot_test\n",
    "from omniglot_loader import OmniLoader"
   ]
  },
  {
   "cell_type": "code",
   "execution_count": 2,
   "metadata": {
    "scrolled": false
   },
   "outputs": [
    {
     "name": "stdout",
     "output_type": "stream",
     "text": [
      "Gettin image list....\n",
      "964 classes present\n",
      "Gettin image list....\n",
      "964 classes present\n",
      "torch.Size([16, 1, 64, 64])\n",
      "tensor([0., 0., 0., 1., 1., 1., 1., 1., 1., 1., 1., 0., 0., 0., 1., 0.])\n"
     ]
    },
    {
     "data": {
      "image/png": "[encoded data removed]",
      "text/plain": [
       "<Figure size 432x288 with 1 Axes>"
      ]
     },
     "metadata": {
      "needs_background": "light"
     },
     "output_type": "display_data"
    },
    {
     "data": {
      "image/png": "[encoded data removed]",
      "text/plain": [
       "<Figure size 432x288 with 1 Axes>"
      ]
     },
     "metadata": {
      "needs_background": "light"
     },
     "output_type": "display_data"
    }
   ],
   "source": [
    "data = OmniLoader(\"./images_background\")\n",
    "trainloader = torch.utils.data.DataLoader(data, batch_size=16, num_workers=0, shuffle = True)\n",
    "\n",
    "data_val = OmniLoader(\"./images_background\", validation = True)\n",
    "validationloader = torch.utils.data.DataLoader(data_val, batch_size=16, num_workers=0, shuffle = True)\n",
    "\n",
    "data_loader = iter(trainloader)\n",
    "data, data2, label = next(data_loader)\n",
    "\n",
    "print(data.shape)\n",
    "print(label.view(-1))\n",
    "plt.imshow(data[0][0], cmap = \"gray\")\n",
    "plt.show()\n",
    "plt.imshow(data2[0][0], cmap = \"gray\")\n",
    "plt.show()\n"
   ]
  },
  {
   "cell_type": "code",
   "execution_count": 3,
   "metadata": {},
   "outputs": [],
   "source": [
    "netS = SiameseNet(image_size = (64, 64))\n",
    "loss_fn = nn.BCEWithLogitsLoss()\n",
    "optimizer = optim.Adam(netS.parameters(), lr = 0.01, weight_decay = 1e-5)"
   ]
  },
  {
   "cell_type": "markdown",
   "metadata": {},
   "source": [
    "### Training Loop"
   ]
  },
  {
   "cell_type": "code",
   "execution_count": 4,
   "metadata": {},
   "outputs": [
    {
     "name": "stdout",
     "output_type": "stream",
     "text": [
      "Epoch 1\n",
      "[ 1 / 10 ][ 0 / 964 ] Training Loss : 0.7042132019996643\n",
      "[ 1 / 10 ][ 50 / 964 ] Training Loss : 1.056697964668274\n",
      "[ 1 / 10 ][ 100 / 964 ] Training Loss : 0.9072333574295044\n",
      "[ 1 / 10 ][ 150 / 964 ] Training Loss : 0.8220254182815552\n",
      "[ 1 / 10 ][ 200 / 964 ] Training Loss : 0.5954380631446838\n",
      "[ 1 / 10 ][ 250 / 964 ] Training Loss : 0.6444530487060547\n",
      "[ 1 / 10 ][ 300 / 964 ] Training Loss : 0.8459339737892151\n",
      "[ 1 / 10 ][ 350 / 964 ] Training Loss : 0.6466858983039856\n",
      "[ 1 / 10 ][ 400 / 964 ] Training Loss : 0.7217066884040833\n",
      "[ 1 / 10 ][ 450 / 964 ] Training Loss : 0.4368870258331299\n",
      "[ 1 / 10 ][ 500 / 964 ] Training Loss : 0.5289044380187988\n",
      "[ 1 / 10 ][ 550 / 964 ] Training Loss : 0.45901110768318176\n",
      "[ 1 / 10 ][ 600 / 964 ] Training Loss : 0.5704157948493958\n",
      "[ 1 / 10 ][ 650 / 964 ] Training Loss : 0.4250779151916504\n",
      "[ 1 / 10 ][ 700 / 964 ] Training Loss : 0.6303945183753967\n",
      "[ 1 / 10 ][ 750 / 964 ] Training Loss : 0.35197678208351135\n",
      "[ 1 / 10 ][ 800 / 964 ] Training Loss : 0.5787342190742493\n",
      "[ 1 / 10 ][ 850 / 964 ] Training Loss : 0.5759968757629395\n",
      "[ 1 / 10 ][ 900 / 964 ] Training Loss : 0.5710104703903198\n",
      "[ 1 / 10 ][ 950 / 964 ] Training Loss : 0.48397305607795715\n",
      "Validation Loss: 0.5887806415557861\n",
      "0 / 190\n",
      "50 / 190\n",
      "100 / 190\n",
      "150 / 190\n",
      "One shot accuracy:  0.4789473684210526 \n",
      "\n",
      "Epoch 2\n",
      "[ 2 / 10 ][ 0 / 964 ] Training Loss : 0.7671282291412354\n",
      "[ 2 / 10 ][ 50 / 964 ] Training Loss : 0.5157723426818848\n",
      "[ 2 / 10 ][ 100 / 964 ] Training Loss : 0.3695404827594757\n",
      "[ 2 / 10 ][ 150 / 964 ] Training Loss : 0.31339243054389954\n",
      "[ 2 / 10 ][ 200 / 964 ] Training Loss : 0.41590583324432373\n",
      "[ 2 / 10 ][ 250 / 964 ] Training Loss : 0.31393852829933167\n",
      "[ 2 / 10 ][ 300 / 964 ] Training Loss : 0.4566855728626251\n",
      "[ 2 / 10 ][ 350 / 964 ] Training Loss : 0.6641209125518799\n",
      "[ 2 / 10 ][ 400 / 964 ] Training Loss : 0.4476965665817261\n",
      "[ 2 / 10 ][ 450 / 964 ] Training Loss : 0.47130507230758667\n",
      "[ 2 / 10 ][ 500 / 964 ] Training Loss : 0.5376548171043396\n",
      "[ 2 / 10 ][ 550 / 964 ] Training Loss : 0.5588858723640442\n",
      "[ 2 / 10 ][ 600 / 964 ] Training Loss : 0.5790367722511292\n",
      "[ 2 / 10 ][ 650 / 964 ] Training Loss : 0.8205296993255615\n",
      "[ 2 / 10 ][ 700 / 964 ] Training Loss : 0.2764865458011627\n",
      "[ 2 / 10 ][ 750 / 964 ] Training Loss : 851.4134521484375\n",
      "[ 2 / 10 ][ 800 / 964 ] Training Loss : 1071.608642578125\n",
      "[ 2 / 10 ][ 850 / 964 ] Training Loss : 319.4129638671875\n",
      "[ 2 / 10 ][ 900 / 964 ] Training Loss : 146.89122009277344\n",
      "[ 2 / 10 ][ 950 / 964 ] Training Loss : 64.90286254882812\n",
      "Validation Loss: 17.51620352268219\n",
      "0 / 190\n",
      "50 / 190\n",
      "100 / 190\n",
      "150 / 190\n",
      "One shot accuracy:  0.15263157894736842 \n",
      "\n",
      "Epoch 3\n",
      "[ 3 / 10 ][ 0 / 964 ] Training Loss : 21.06966781616211\n",
      "[ 3 / 10 ][ 50 / 964 ] Training Loss : 7.462306499481201\n",
      "[ 3 / 10 ][ 100 / 964 ] Training Loss : 20.612802505493164\n",
      "[ 3 / 10 ][ 150 / 964 ] Training Loss : 11.925337791442871\n",
      "[ 3 / 10 ][ 200 / 964 ] Training Loss : 17.33991241455078\n",
      "[ 3 / 10 ][ 250 / 964 ] Training Loss : 8.713354110717773\n",
      "[ 3 / 10 ][ 300 / 964 ] Training Loss : 12.89279556274414\n",
      "[ 3 / 10 ][ 350 / 964 ] Training Loss : 10.190672874450684\n",
      "[ 3 / 10 ][ 400 / 964 ] Training Loss : 4.333176136016846\n",
      "[ 3 / 10 ][ 450 / 964 ] Training Loss : 7.559791564941406\n",
      "[ 3 / 10 ][ 500 / 964 ] Training Loss : 3.639265537261963\n",
      "[ 3 / 10 ][ 550 / 964 ] Training Loss : 3.679795265197754\n",
      "[ 3 / 10 ][ 600 / 964 ] Training Loss : 10.584240913391113\n",
      "[ 3 / 10 ][ 650 / 964 ] Training Loss : 2.794480800628662\n",
      "[ 3 / 10 ][ 700 / 964 ] Training Loss : 1.3660579919815063\n",
      "[ 3 / 10 ][ 750 / 964 ] Training Loss : 2.8553519248962402\n",
      "[ 3 / 10 ][ 800 / 964 ] Training Loss : 10.6079683303833\n",
      "[ 3 / 10 ][ 850 / 964 ] Training Loss : 1.8377519845962524\n",
      "[ 3 / 10 ][ 900 / 964 ] Training Loss : 1.7722772359848022\n",
      "[ 3 / 10 ][ 950 / 964 ] Training Loss : 0.5769240260124207\n",
      "Validation Loss: 11.850385387738546\n",
      "0 / 190\n",
      "50 / 190\n",
      "100 / 190\n",
      "150 / 190\n",
      "One shot accuracy:  0.1736842105263158 \n",
      "\n",
      "Epoch 4\n",
      "[ 4 / 10 ][ 0 / 964 ] Training Loss : 1.7075867652893066\n",
      "[ 4 / 10 ][ 50 / 964 ] Training Loss : 2.7662160396575928\n",
      "[ 4 / 10 ][ 100 / 964 ] Training Loss : 4.966057777404785\n",
      "[ 4 / 10 ][ 150 / 964 ] Training Loss : 3.7626070976257324\n",
      "[ 4 / 10 ][ 200 / 964 ] Training Loss : 1.8306487798690796\n",
      "[ 4 / 10 ][ 250 / 964 ] Training Loss : 3.8364622592926025\n",
      "[ 4 / 10 ][ 300 / 964 ] Training Loss : 1.3520076274871826\n",
      "[ 4 / 10 ][ 350 / 964 ] Training Loss : 2.291198968887329\n",
      "[ 4 / 10 ][ 400 / 964 ] Training Loss : 2.5441832542419434\n",
      "[ 4 / 10 ][ 450 / 964 ] Training Loss : 2.45426082611084\n",
      "[ 4 / 10 ][ 500 / 964 ] Training Loss : 1.9595953226089478\n",
      "[ 4 / 10 ][ 550 / 964 ] Training Loss : 0.9526979923248291\n",
      "[ 4 / 10 ][ 600 / 964 ] Training Loss : 1.572089672088623\n",
      "[ 4 / 10 ][ 650 / 964 ] Training Loss : 4.373698711395264\n",
      "[ 4 / 10 ][ 700 / 964 ] Training Loss : 2.1295974254608154\n",
      "[ 4 / 10 ][ 750 / 964 ] Training Loss : 0.9144548177719116\n",
      "[ 4 / 10 ][ 800 / 964 ] Training Loss : 0.21166177093982697\n",
      "[ 4 / 10 ][ 850 / 964 ] Training Loss : 2.2007038593292236\n",
      "[ 4 / 10 ][ 900 / 964 ] Training Loss : 0.5527216196060181\n",
      "[ 4 / 10 ][ 950 / 964 ] Training Loss : 1.156048059463501\n",
      "Validation Loss: 9.646257191896439\n",
      "0 / 190\n",
      "50 / 190\n",
      "100 / 190\n",
      "150 / 190\n",
      "One shot accuracy:  0.18421052631578946 \n",
      "\n",
      "Epoch 5\n",
      "[ 5 / 10 ][ 0 / 964 ] Training Loss : 2.7587084770202637\n",
      "[ 5 / 10 ][ 50 / 964 ] Training Loss : 0.44163310527801514\n",
      "[ 5 / 10 ][ 100 / 964 ] Training Loss : 2.3042259216308594\n",
      "[ 5 / 10 ][ 150 / 964 ] Training Loss : 0.1389419138431549\n",
      "[ 5 / 10 ][ 200 / 964 ] Training Loss : 1.7924737930297852\n",
      "[ 5 / 10 ][ 250 / 964 ] Training Loss : 0.6778386831283569\n",
      "[ 5 / 10 ][ 300 / 964 ] Training Loss : 0.3352566659450531\n",
      "[ 5 / 10 ][ 350 / 964 ] Training Loss : 2.2050697803497314\n",
      "[ 5 / 10 ][ 400 / 964 ] Training Loss : 2.812338352203369\n",
      "[ 5 / 10 ][ 450 / 964 ] Training Loss : 2.4476773738861084\n"
     ]
    },
    {
     "ename": "KeyboardInterrupt",
     "evalue": "",
     "output_type": "error",
     "traceback": [
      "\u001b[1;31m---------------------------------------------------------------------------\u001b[0m",
      "\u001b[1;31mKeyboardInterrupt\u001b[0m                         Traceback (most recent call last)",
      "\u001b[1;32m<ipython-input-4-dbbf09cd6161>\u001b[0m in \u001b[0;36m<module>\u001b[1;34m\u001b[0m\n\u001b[0;32m      8\u001b[0m         \u001b[0mx\u001b[0m\u001b[1;33m,\u001b[0m \u001b[0my\u001b[0m\u001b[1;33m,\u001b[0m \u001b[0msim\u001b[0m \u001b[1;33m=\u001b[0m \u001b[0mdata\u001b[0m\u001b[1;33m\u001b[0m\u001b[0m\n\u001b[0;32m      9\u001b[0m \u001b[1;33m\u001b[0m\u001b[0m\n\u001b[1;32m---> 10\u001b[1;33m         \u001b[0mtrain_loss\u001b[0m \u001b[1;33m=\u001b[0m \u001b[0mtrain_step\u001b[0m\u001b[1;33m(\u001b[0m\u001b[0mnetS\u001b[0m\u001b[1;33m,\u001b[0m \u001b[0moptimizer\u001b[0m\u001b[1;33m,\u001b[0m \u001b[0mloss_fn\u001b[0m\u001b[1;33m,\u001b[0m \u001b[0mx\u001b[0m\u001b[1;33m,\u001b[0m \u001b[0my\u001b[0m\u001b[1;33m,\u001b[0m \u001b[0msim\u001b[0m\u001b[1;33m)\u001b[0m\u001b[1;33m\u001b[0m\u001b[0m\n\u001b[0m\u001b[0;32m     11\u001b[0m \u001b[1;33m\u001b[0m\u001b[0m\n\u001b[0;32m     12\u001b[0m \u001b[1;33m\u001b[0m\u001b[0m\n",
      "\u001b[1;32mF:\\CollegeStuff\\Sem4\\CA_Experiments\\OmniGlot\\siamese.py\u001b[0m in \u001b[0;36mtrain_step\u001b[1;34m(netS, optimizer, loss_fn, x, y, sim)\u001b[0m\n\u001b[0;32m     41\u001b[0m     \u001b[0mout\u001b[0m \u001b[1;33m=\u001b[0m \u001b[0mnetS\u001b[0m\u001b[1;33m(\u001b[0m\u001b[0mx\u001b[0m\u001b[1;33m,\u001b[0m \u001b[0my\u001b[0m\u001b[1;33m)\u001b[0m\u001b[1;33m\u001b[0m\u001b[0m\n\u001b[0;32m     42\u001b[0m     \u001b[0mL\u001b[0m \u001b[1;33m=\u001b[0m \u001b[0mloss_fn\u001b[0m\u001b[1;33m(\u001b[0m\u001b[0mout\u001b[0m\u001b[1;33m,\u001b[0m \u001b[0msim\u001b[0m\u001b[1;33m)\u001b[0m\u001b[1;33m\u001b[0m\u001b[0m\n\u001b[1;32m---> 43\u001b[1;33m     \u001b[0mL\u001b[0m\u001b[1;33m.\u001b[0m\u001b[0mbackward\u001b[0m\u001b[1;33m(\u001b[0m\u001b[1;33m)\u001b[0m\u001b[1;33m\u001b[0m\u001b[0m\n\u001b[0m\u001b[0;32m     44\u001b[0m     \u001b[0moptimizer\u001b[0m\u001b[1;33m.\u001b[0m\u001b[0mstep\u001b[0m\u001b[1;33m(\u001b[0m\u001b[1;33m)\u001b[0m\u001b[1;33m\u001b[0m\u001b[0m\n\u001b[0;32m     45\u001b[0m     \u001b[1;32mreturn\u001b[0m \u001b[0mL\u001b[0m\u001b[1;33m.\u001b[0m\u001b[0mdetach\u001b[0m\u001b[1;33m(\u001b[0m\u001b[1;33m)\u001b[0m\u001b[1;33m.\u001b[0m\u001b[0mitem\u001b[0m\u001b[1;33m(\u001b[0m\u001b[1;33m)\u001b[0m\u001b[1;33m\u001b[0m\u001b[0m\n",
      "\u001b[1;32mc:\\users\\krishnan meep\\appdata\\local\\programs\\python\\python36\\lib\\site-packages\\torch\\tensor.py\u001b[0m in \u001b[0;36mbackward\u001b[1;34m(self, gradient, retain_graph, create_graph)\u001b[0m\n\u001b[0;32m    116\u001b[0m                 \u001b[0mproducts\u001b[0m\u001b[1;33m.\u001b[0m \u001b[0mDefaults\u001b[0m \u001b[0mto\u001b[0m\u001b[0;31m \u001b[0m\u001b[0;31m`\u001b[0m\u001b[0;31m`\u001b[0m\u001b[1;32mFalse\u001b[0m\u001b[0;31m`\u001b[0m\u001b[0;31m`\u001b[0m\u001b[1;33m.\u001b[0m\u001b[1;33m\u001b[0m\u001b[0m\n\u001b[0;32m    117\u001b[0m         \"\"\"\n\u001b[1;32m--> 118\u001b[1;33m         \u001b[0mtorch\u001b[0m\u001b[1;33m.\u001b[0m\u001b[0mautograd\u001b[0m\u001b[1;33m.\u001b[0m\u001b[0mbackward\u001b[0m\u001b[1;33m(\u001b[0m\u001b[0mself\u001b[0m\u001b[1;33m,\u001b[0m \u001b[0mgradient\u001b[0m\u001b[1;33m,\u001b[0m \u001b[0mretain_graph\u001b[0m\u001b[1;33m,\u001b[0m \u001b[0mcreate_graph\u001b[0m\u001b[1;33m)\u001b[0m\u001b[1;33m\u001b[0m\u001b[0m\n\u001b[0m\u001b[0;32m    119\u001b[0m \u001b[1;33m\u001b[0m\u001b[0m\n\u001b[0;32m    120\u001b[0m     \u001b[1;32mdef\u001b[0m \u001b[0mregister_hook\u001b[0m\u001b[1;33m(\u001b[0m\u001b[0mself\u001b[0m\u001b[1;33m,\u001b[0m \u001b[0mhook\u001b[0m\u001b[1;33m)\u001b[0m\u001b[1;33m:\u001b[0m\u001b[1;33m\u001b[0m\u001b[0m\n",
      "\u001b[1;32mc:\\users\\krishnan meep\\appdata\\local\\programs\\python\\python36\\lib\\site-packages\\torch\\autograd\\__init__.py\u001b[0m in \u001b[0;36mbackward\u001b[1;34m(tensors, grad_tensors, retain_graph, create_graph, grad_variables)\u001b[0m\n\u001b[0;32m     91\u001b[0m     Variable._execution_engine.run_backward(\n\u001b[0;32m     92\u001b[0m         \u001b[0mtensors\u001b[0m\u001b[1;33m,\u001b[0m \u001b[0mgrad_tensors\u001b[0m\u001b[1;33m,\u001b[0m \u001b[0mretain_graph\u001b[0m\u001b[1;33m,\u001b[0m \u001b[0mcreate_graph\u001b[0m\u001b[1;33m,\u001b[0m\u001b[1;33m\u001b[0m\u001b[0m\n\u001b[1;32m---> 93\u001b[1;33m         allow_unreachable=True)  # allow_unreachable flag\n\u001b[0m\u001b[0;32m     94\u001b[0m \u001b[1;33m\u001b[0m\u001b[0m\n\u001b[0;32m     95\u001b[0m \u001b[1;33m\u001b[0m\u001b[0m\n",
      "\u001b[1;31mKeyboardInterrupt\u001b[0m: "
     ]
    }
   ],
   "source": [
    "epochs = 10\n",
    "\n",
    "iterations, train_losses, validation_losses = [], [], []\n",
    "\n",
    "for e in range(epochs):\n",
    "    print(\"Epoch\", e+1)\n",
    "    for i, data in enumerate(trainloader):\n",
    "        x, y, sim = data\n",
    "        \n",
    "        train_loss = train_step(netS, optimizer, loss_fn, x, y, sim)\n",
    "        \n",
    "        \n",
    "        if i%50 == 0:\n",
    "          print(\"[\", e+1, \"/\", epochs, \"][\", i, \"/\",len(trainloader),\"]\", \"Training Loss :\", train_loss)\n",
    "        \n",
    "        if i%10 == 0:\n",
    "          iterations.append(e*len(trainloader) + i)\n",
    "          train_losses.append(train_loss)\n",
    "            \n",
    "        \n",
    "    for i, data in enumerate(validationloader):\n",
    "        \n",
    "        val_loss = test_step(netS, loss_fn, x, y, sim)\n",
    "        validation_losses.append(val_loss)\n",
    "        \n",
    "\n",
    "    print(\"Validation Loss:\", sum(validation_losses)/len(validation_losses))   \n",
    "    support_set, query_set, class_labels = data_val.get_oneshot_task(ways = 10)\n",
    "    oneshot_test(netS, support_set, query_set, class_labels)\n",
    "\n",
    "        "
   ]
  },
  {
   "cell_type": "markdown",
   "metadata": {},
   "source": [
    "### One Shot Test\n",
    "\n",
    "We use the images from the evaluation set to test the network. It consists of alphabets and characters that the network hasn't been trained on. This is between alphabet testing. It draws one image from 'm' classes (m-way one shot learning) to form the support test, and tests all the other images from those same classes, the query set, against the support set."
   ]
  },
  {
   "cell_type": "code",
   "execution_count": 5,
   "metadata": {},
   "outputs": [
    {
     "name": "stdout",
     "output_type": "stream",
     "text": [
      "Gettin image list....\n",
      "659 classes present\n",
      "torch.Size([10, 1, 64, 64]) torch.Size([190, 1, 64, 64])\n"
     ]
    },
    {
     "data": {
      "image/png": "[encoded data removed]",
      "text/plain": [
       "<Figure size 432x288 with 1 Axes>"
      ]
     },
     "metadata": {
      "needs_background": "light"
     },
     "output_type": "display_data"
    },
    {
     "name": "stdout",
     "output_type": "stream",
     "text": [
      "0 / 190\n",
      "50 / 190\n",
      "100 / 190\n",
      "150 / 190\n",
      "One shot accuracy:  0.17894736842105263 \n",
      "\n"
     ]
    }
   ],
   "source": [
    "data = OmniLoader(\"./images_evaluation\")\n",
    "\n",
    "support_set, query_set, class_labels = data.get_oneshot_task(ways = 10)\n",
    "print(support_set.shape, query_set.shape)\n",
    "\n",
    "grid = torchvision.utils.make_grid(support_set, nrow = 5, padding = 1, pad_value = 0.15)\n",
    "grid = np.transpose(grid, (1, 2, 0))\n",
    "plt.imshow(grid)\n",
    "plt.show()\n",
    "\n",
    "oneshot_test(netS, support_set, query_set, class_labels)"
   ]
  }
 ],
 "metadata": {
  "kernelspec": {
   "display_name": "Python 3",
   "language": "python",
   "name": "python3"
  },
  "language_info": {
   "codemirror_mode": {
    "name": "ipython",
    "version": 3
   },
   "file_extension": ".py",
   "mimetype": "text/x-python",
   "name": "python",
   "nbconvert_exporter": "python",
   "pygments_lexer": "ipython3",
   "version": "3.6.5"
  }
 },
 "nbformat": 4,
 "nbformat_minor": 2
}
