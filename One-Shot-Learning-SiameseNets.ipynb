{
 "cells": [
  {
   "cell_type": "markdown",
   "metadata": {},
   "source": [
    "## One Shot Learning on Omniglot\n",
    "\n",
    "Using a small ConvNet to meta-learn the heck out of Omniglot characters. Nice to see malayalam in my dataset. The model and dataloader are present in siamese.py and omniglot_loader.py respectively."
   ]
  },
  {
   "cell_type": "code",
   "execution_count": 1,
   "metadata": {},
   "outputs": [],
   "source": [
    "import numpy as np\n",
    "import torch\n",
    "import torch.nn as nn\n",
    "import torch.nn.functional as F\n",
    "import torch.optim as optim\n",
    "from torch.utils.data import Dataset\n",
    "import torchvision\n",
    "import torchvision.transforms as transforms\n",
    "import os\n",
    "import cv2\n",
    "import matplotlib.pyplot as plt\n",
    "\n",
    "from siamese import SiameseNet, train_step, test_step, oneshot_test\n",
    "from omniglot_loader import OmniLoader"
   ]
  },
  {
   "cell_type": "code",
   "execution_count": 2,
   "metadata": {
    "scrolled": false
   },
   "outputs": [
    {
     "name": "stdout",
     "output_type": "stream",
     "text": [
      "Gettin image list....\n",
      "964 classes present\n",
      "Gettin image list....\n",
      "964 classes present\n",
      "torch.Size([16, 1, 64, 64])\n",
      "tensor([0., 1., 1., 0., 1., 0., 1., 0., 1., 1., 1., 1., 0., 1., 0., 0.])\n"
     ]
    },
    {
     "data": {
      "image/png": "[encoded data removed]",
      "text/plain": [
       "<Figure size 432x288 with 1 Axes>"
      ]
     },
     "metadata": {
      "needs_background": "light"
     },
     "output_type": "display_data"
    },
    {
     "data": {
      "image/png": "[encoded data removed]",
      "text/plain": [
       "<Figure size 432x288 with 1 Axes>"
      ]
     },
     "metadata": {
      "needs_background": "light"
     },
     "output_type": "display_data"
    }
   ],
   "source": [
    "data = OmniLoader(\"./images_background\")\n",
    "trainloader = torch.utils.data.DataLoader(data, batch_size=16, num_workers=0, shuffle = True)\n",
    "\n",
    "data_val = OmniLoader(\"./images_background\", validation = True)\n",
    "validationloader = torch.utils.data.DataLoader(data_val, batch_size=16, num_workers=0, shuffle = True)\n",
    "\n",
    "data_loader = iter(trainloader)\n",
    "data, data2, label = next(data_loader)\n",
    "\n",
    "print(data.shape)\n",
    "print(label.view(-1))\n",
    "plt.imshow(data[0][0], cmap = \"gray\")\n",
    "plt.show()\n",
    "plt.imshow(data2[0][0], cmap = \"gray\")\n",
    "plt.show()\n"
   ]
  },
  {
   "cell_type": "code",
   "execution_count": 6,
   "metadata": {},
   "outputs": [],
   "source": [
    "netS = SiameseNet(image_size = (64, 64))\n",
    "loss_fn = nn.BCEWithLogitsLoss()\n",
    "optimizer = optim.Adam(netS.parameters(), lr = 0.001, weight_decay = 1e-5)"
   ]
  },
  {
   "cell_type": "markdown",
   "metadata": {},
   "source": [
    "### Training Loop"
   ]
  },
  {
   "cell_type": "code",
   "execution_count": 7,
   "metadata": {},
   "outputs": [
    {
     "name": "stdout",
     "output_type": "stream",
     "text": [
      "Epoch 1\n",
      "[ 1 / 5 ][ 0 / 964 ] Training Loss : 0.6767430901527405\n",
      "[ 1 / 5 ][ 50 / 964 ] Training Loss : 0.6147996187210083\n",
      "[ 1 / 5 ][ 100 / 964 ] Training Loss : 0.6711707711219788\n",
      "[ 1 / 5 ][ 150 / 964 ] Training Loss : 0.5206223726272583\n",
      "[ 1 / 5 ][ 200 / 964 ] Training Loss : 0.5891808867454529\n",
      "[ 1 / 5 ][ 250 / 964 ] Training Loss : 0.928870439529419\n",
      "[ 1 / 5 ][ 300 / 964 ] Training Loss : 0.45701512694358826\n",
      "[ 1 / 5 ][ 350 / 964 ] Training Loss : 0.6850791573524475\n",
      "[ 1 / 5 ][ 400 / 964 ] Training Loss : 0.4811376631259918\n",
      "[ 1 / 5 ][ 450 / 964 ] Training Loss : 0.34864699840545654\n",
      "[ 1 / 5 ][ 500 / 964 ] Training Loss : 0.4924875497817993\n",
      "[ 1 / 5 ][ 550 / 964 ] Training Loss : 0.3746771812438965\n",
      "[ 1 / 5 ][ 600 / 964 ] Training Loss : 0.5522628426551819\n",
      "[ 1 / 5 ][ 650 / 964 ] Training Loss : 0.3073861002922058\n",
      "[ 1 / 5 ][ 700 / 964 ] Training Loss : 0.4146578907966614\n",
      "[ 1 / 5 ][ 750 / 964 ] Training Loss : 0.3961125910282135\n",
      "[ 1 / 5 ][ 800 / 964 ] Training Loss : 0.5030719637870789\n",
      "[ 1 / 5 ][ 850 / 964 ] Training Loss : 0.6138676404953003\n",
      "[ 1 / 5 ][ 900 / 964 ] Training Loss : 0.3092375695705414\n",
      "[ 1 / 5 ][ 950 / 964 ] Training Loss : 0.4030574858188629\n",
      "Validation Loss: 0.36072996258735657\n",
      "0 / 190\n",
      "50 / 190\n",
      "100 / 190\n",
      "150 / 190\n",
      "One shot accuracy:  0.6368421052631579 \n",
      "\n",
      "Epoch 2\n",
      "[ 2 / 5 ][ 0 / 964 ] Training Loss : 0.30963099002838135\n",
      "[ 2 / 5 ][ 50 / 964 ] Training Loss : 0.26607125997543335\n",
      "[ 2 / 5 ][ 100 / 964 ] Training Loss : 0.3033095896244049\n",
      "[ 2 / 5 ][ 150 / 964 ] Training Loss : 0.4620959758758545\n",
      "[ 2 / 5 ][ 200 / 964 ] Training Loss : 0.2606588304042816\n",
      "[ 2 / 5 ][ 250 / 964 ] Training Loss : 0.24280081689357758\n",
      "[ 2 / 5 ][ 300 / 964 ] Training Loss : 0.14272300899028778\n",
      "[ 2 / 5 ][ 350 / 964 ] Training Loss : 0.16598381102085114\n",
      "[ 2 / 5 ][ 400 / 964 ] Training Loss : 0.4543718695640564\n",
      "[ 2 / 5 ][ 450 / 964 ] Training Loss : 0.32323572039604187\n",
      "[ 2 / 5 ][ 500 / 964 ] Training Loss : 0.47777149081230164\n",
      "[ 2 / 5 ][ 550 / 964 ] Training Loss : 0.2610320448875427\n",
      "[ 2 / 5 ][ 600 / 964 ] Training Loss : 0.4348107576370239\n",
      "[ 2 / 5 ][ 650 / 964 ] Training Loss : 0.48878517746925354\n",
      "[ 2 / 5 ][ 700 / 964 ] Training Loss : 0.2775922119617462\n",
      "[ 2 / 5 ][ 750 / 964 ] Training Loss : 0.6152023077011108\n",
      "[ 2 / 5 ][ 800 / 964 ] Training Loss : 0.15439072251319885\n",
      "[ 2 / 5 ][ 850 / 964 ] Training Loss : 0.12685850262641907\n",
      "[ 2 / 5 ][ 900 / 964 ] Training Loss : 0.2666807472705841\n",
      "[ 2 / 5 ][ 950 / 964 ] Training Loss : 0.2065884917974472\n",
      "Validation Loss: 0.3063458055257797\n",
      "0 / 190\n",
      "50 / 190\n",
      "100 / 190\n",
      "150 / 190\n",
      "One shot accuracy:  0.868421052631579 \n",
      "\n",
      "Epoch 3\n",
      "[ 3 / 5 ][ 0 / 964 ] Training Loss : 0.09996339678764343\n",
      "[ 3 / 5 ][ 50 / 964 ] Training Loss : 0.10918079316616058\n",
      "[ 3 / 5 ][ 100 / 964 ] Training Loss : 0.23262321949005127\n",
      "[ 3 / 5 ][ 150 / 964 ] Training Loss : 0.12498977035284042\n",
      "[ 3 / 5 ][ 200 / 964 ] Training Loss : 0.3244493007659912\n",
      "[ 3 / 5 ][ 250 / 964 ] Training Loss : 0.5163033604621887\n",
      "[ 3 / 5 ][ 300 / 964 ] Training Loss : 0.39669501781463623\n",
      "[ 3 / 5 ][ 350 / 964 ] Training Loss : 0.14639048278331757\n",
      "[ 3 / 5 ][ 400 / 964 ] Training Loss : 0.31379446387290955\n",
      "[ 3 / 5 ][ 450 / 964 ] Training Loss : 0.29643362760543823\n",
      "[ 3 / 5 ][ 500 / 964 ] Training Loss : 0.12123529613018036\n",
      "[ 3 / 5 ][ 550 / 964 ] Training Loss : 0.24315257370471954\n",
      "[ 3 / 5 ][ 600 / 964 ] Training Loss : 0.247151181101799\n",
      "[ 3 / 5 ][ 650 / 964 ] Training Loss : 0.227700874209404\n",
      "[ 3 / 5 ][ 700 / 964 ] Training Loss : 0.3395644724369049\n",
      "[ 3 / 5 ][ 750 / 964 ] Training Loss : 0.9995687007904053\n",
      "[ 3 / 5 ][ 800 / 964 ] Training Loss : 0.11113636195659637\n",
      "[ 3 / 5 ][ 850 / 964 ] Training Loss : 0.32509395480155945\n",
      "[ 3 / 5 ][ 900 / 964 ] Training Loss : 0.14043685793876648\n",
      "[ 3 / 5 ][ 950 / 964 ] Training Loss : 0.14415079355239868\n",
      "Validation Loss: 0.38621460398038227\n",
      "0 / 190\n",
      "50 / 190\n",
      "100 / 190\n",
      "150 / 190\n",
      "One shot accuracy:  0.868421052631579 \n",
      "\n",
      "Epoch 4\n",
      "[ 4 / 5 ][ 0 / 964 ] Training Loss : 0.1815180629491806\n",
      "[ 4 / 5 ][ 50 / 964 ] Training Loss : 0.10438039898872375\n",
      "[ 4 / 5 ][ 100 / 964 ] Training Loss : 0.11215686798095703\n",
      "[ 4 / 5 ][ 150 / 964 ] Training Loss : 0.2239135503768921\n",
      "[ 4 / 5 ][ 200 / 964 ] Training Loss : 0.17511123418807983\n",
      "[ 4 / 5 ][ 250 / 964 ] Training Loss : 0.21194277703762054\n",
      "[ 4 / 5 ][ 300 / 964 ] Training Loss : 0.4559292495250702\n",
      "[ 4 / 5 ][ 350 / 964 ] Training Loss : 0.19493448734283447\n",
      "[ 4 / 5 ][ 400 / 964 ] Training Loss : 0.3377906084060669\n",
      "[ 4 / 5 ][ 450 / 964 ] Training Loss : 0.20789338648319244\n",
      "[ 4 / 5 ][ 500 / 964 ] Training Loss : 0.22203563153743744\n",
      "[ 4 / 5 ][ 550 / 964 ] Training Loss : 0.4488535225391388\n",
      "[ 4 / 5 ][ 600 / 964 ] Training Loss : 0.2689419090747833\n",
      "[ 4 / 5 ][ 650 / 964 ] Training Loss : 0.12115564197301865\n",
      "[ 4 / 5 ][ 700 / 964 ] Training Loss : 0.2133033126592636\n",
      "[ 4 / 5 ][ 750 / 964 ] Training Loss : 0.23482555150985718\n",
      "[ 4 / 5 ][ 800 / 964 ] Training Loss : 0.20801742374897003\n",
      "[ 4 / 5 ][ 850 / 964 ] Training Loss : 0.2221657633781433\n",
      "[ 4 / 5 ][ 900 / 964 ] Training Loss : 0.06426038593053818\n",
      "[ 4 / 5 ][ 950 / 964 ] Training Loss : 0.11537352204322815\n",
      "Validation Loss: 0.3090034108608961\n",
      "0 / 190\n",
      "50 / 190\n",
      "100 / 190\n",
      "150 / 190\n",
      "One shot accuracy:  0.8578947368421053 \n",
      "\n",
      "Epoch 5\n",
      "[ 5 / 5 ][ 0 / 964 ] Training Loss : 0.23935361206531525\n",
      "[ 5 / 5 ][ 50 / 964 ] Training Loss : 0.40483570098876953\n",
      "[ 5 / 5 ][ 100 / 964 ] Training Loss : 0.1248663142323494\n",
      "[ 5 / 5 ][ 150 / 964 ] Training Loss : 0.02433243952691555\n",
      "[ 5 / 5 ][ 200 / 964 ] Training Loss : 0.13484352827072144\n",
      "[ 5 / 5 ][ 250 / 964 ] Training Loss : 0.3289225995540619\n",
      "[ 5 / 5 ][ 300 / 964 ] Training Loss : 0.1714434027671814\n",
      "[ 5 / 5 ][ 350 / 964 ] Training Loss : 0.1187991350889206\n",
      "[ 5 / 5 ][ 400 / 964 ] Training Loss : 0.1795203536748886\n",
      "[ 5 / 5 ][ 450 / 964 ] Training Loss : 0.1663246750831604\n",
      "[ 5 / 5 ][ 500 / 964 ] Training Loss : 0.08999833464622498\n",
      "[ 5 / 5 ][ 550 / 964 ] Training Loss : 0.06411635130643845\n",
      "[ 5 / 5 ][ 600 / 964 ] Training Loss : 0.41618895530700684\n",
      "[ 5 / 5 ][ 650 / 964 ] Training Loss : 0.04294240474700928\n",
      "[ 5 / 5 ][ 700 / 964 ] Training Loss : 0.350873202085495\n",
      "[ 5 / 5 ][ 750 / 964 ] Training Loss : 0.30987751483917236\n",
      "[ 5 / 5 ][ 800 / 964 ] Training Loss : 0.04631897434592247\n",
      "[ 5 / 5 ][ 850 / 964 ] Training Loss : 0.1405012458562851\n",
      "[ 5 / 5 ][ 900 / 964 ] Training Loss : 0.06588829308748245\n",
      "[ 5 / 5 ][ 950 / 964 ] Training Loss : 0.10757353156805038\n",
      "Validation Loss: 0.2800369933247566\n",
      "0 / 190\n",
      "50 / 190\n",
      "100 / 190\n",
      "150 / 190\n",
      "One shot accuracy:  0.9157894736842105 \n",
      "\n"
     ]
    }
   ],
   "source": [
    "epochs = 5\n",
    "\n",
    "iterations, train_losses, validation_losses = [], [], []\n",
    "\n",
    "for e in range(epochs):\n",
    "    print(\"Epoch\", e+1)\n",
    "    for i, data in enumerate(trainloader):\n",
    "        x, y, sim = data\n",
    "        \n",
    "        train_loss = train_step(netS, optimizer, loss_fn, x, y, sim)\n",
    "        \n",
    "        \n",
    "        if i%50 == 0:\n",
    "          print(\"[\", e+1, \"/\", epochs, \"][\", i, \"/\",len(trainloader),\"]\", \"Training Loss :\", train_loss)\n",
    "        \n",
    "        if i%10 == 0:\n",
    "          iterations.append(e*len(trainloader) + i)\n",
    "          train_losses.append(train_loss)\n",
    "            \n",
    "        \n",
    "    for i, data in enumerate(validationloader):\n",
    "        \n",
    "        val_loss = test_step(netS, loss_fn, x, y, sim)\n",
    "        validation_losses.append(val_loss)\n",
    "        \n",
    "\n",
    "    print(\"Validation Loss:\", sum(validation_losses)/len(validation_losses))   \n",
    "    support_set, query_set, class_labels = data_val.get_oneshot_task(ways = 10)\n",
    "    oneshot_test(netS, support_set, query_set, class_labels)\n"
   ]
  },
  {
   "cell_type": "markdown",
   "metadata": {},
   "source": [
    "### One Shot Test\n",
    "\n",
    "We use the images from the evaluation set to test the network. It consists of alphabets and characters that the network hasn't been trained on. This is between alphabet testing. It draws one image from 'm' classes (m-way one shot learning) to form the support test, and tests all the other images from those same classes, the query set, against the support set."
   ]
  },
  {
   "cell_type": "code",
   "execution_count": 10,
   "metadata": {},
   "outputs": [
    {
     "name": "stdout",
     "output_type": "stream",
     "text": [
      "Gettin image list....\n",
      "659 classes present\n",
      "torch.Size([10, 1, 64, 64]) torch.Size([190, 1, 64, 64])\n"
     ]
    },
    {
     "data": {
      "image/png": "[encoded data removed]",
      "text/plain": [
       "<Figure size 432x288 with 1 Axes>"
      ]
     },
     "metadata": {
      "needs_background": "light"
     },
     "output_type": "display_data"
    },
    {
     "name": "stdout",
     "output_type": "stream",
     "text": [
      "0 / 190\n",
      "50 / 190\n",
      "100 / 190\n",
      "150 / 190\n",
      "One shot accuracy:  0.8526315789473684 \n",
      "\n"
     ]
    }
   ],
   "source": [
    "data = OmniLoader(\"./images_evaluation\")\n",
    "\n",
    "support_set, query_set, class_labels = data.get_oneshot_task(ways = 10)\n",
    "print(support_set.shape, query_set.shape)\n",
    "\n",
    "grid = torchvision.utils.make_grid(support_set, nrow = 5, padding = 1, pad_value = 0.15)\n",
    "grid = np.transpose(grid, (1, 2, 0))\n",
    "plt.imshow(grid)\n",
    "plt.show()\n",
    "\n",
    "oneshot_test(netS, support_set, query_set, class_labels)"
   ]
  }
 ],
 "metadata": {
  "kernelspec": {
   "display_name": "Python 3",
   "language": "python",
   "name": "python3"
  },
  "language_info": {
   "codemirror_mode": {
    "name": "ipython",
    "version": 3
   },
   "file_extension": ".py",
   "mimetype": "text/x-python",
   "name": "python",
   "nbconvert_exporter": "python",
   "pygments_lexer": "ipython3",
   "version": "3.6.5"
  }
 },
 "nbformat": 4,
 "nbformat_minor": 2
}
